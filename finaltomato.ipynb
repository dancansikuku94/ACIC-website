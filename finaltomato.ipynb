{
  "nbformat": 4,
  "nbformat_minor": 0,
  "metadata": {
    "colab": {
      "name": "finaltomato.ipynb",
      "provenance": [],
      "collapsed_sections": [],
      "mount_file_id": "1Q6kLMRS4wrfCZ1HF0gNHbsmzTnBYL6uu",
      "authorship_tag": "ABX9TyPVDtypkPdk53ixwHzvO7pK",
      "include_colab_link": true
    },
    "kernelspec": {
      "name": "python3",
      "display_name": "Python 3"
    },
    "language_info": {
      "name": "python"
    },
    "accelerator": "GPU"
  },
  "cells": [
    {
      "cell_type": "markdown",
      "metadata": {
        "id": "view-in-github",
        "colab_type": "text"
      },
      "source": [
        "<a href=\"https://colab.research.google.com/github/dancansikuku94/ACIC-website/blob/master/finaltomato.ipynb\" target=\"_parent\"><img src=\"https://colab.research.google.com/assets/colab-badge.svg\" alt=\"Open In Colab\"/></a>"
      ]
    },
    {
      "cell_type": "code",
      "metadata": {
        "id": "jfIlE_kfEoUw"
      },
      "source": [
        "from google.colab import drive\n"
      ],
      "execution_count": null,
      "outputs": []
    },
    {
      "cell_type": "code",
      "metadata": {
        "id": "c0p0ajmfFAlP"
      },
      "source": [
        "import tensorflow as tf\n",
        "from tensorflow.keras.layers import Input, Lambda, Dense, Flatten\n",
        "from tensorflow.keras.models import Model\n",
        "from tensorflow.keras.applications.vgg19 import VGG19\n",
        "from tensorflow.keras.preprocessing import image\n",
        "from tensorflow.keras.preprocessing.image import ImageDataGenerator,load_img\n",
        "from keras.optimizers import RMSprop\n",
        "from tensorflow.keras.models import Sequential\n",
        "from tensorflow.keras.callbacks import EarlyStopping\n",
        "from tensorflow.keras.models import load_model\n",
        "import numpy as np\n",
        "import matplotlib.pyplot as plt\n",
        "from glob import glob\n"
      ],
      "execution_count": null,
      "outputs": []
    },
    {
      "cell_type": "code",
      "metadata": {
        "id": "dIFu4C8wFiIA"
      },
      "source": [
        "IMAGE_SIZE=[224,224]\n"
      ],
      "execution_count": null,
      "outputs": []
    },
    {
      "cell_type": "code",
      "metadata": {
        "id": "y-6zUCD8GSmx"
      },
      "source": [
        "train_path=\"/content/drive/MyDrive/TOMATOFOLDER/train\"\n",
        "test_path=\"/content/drive/MyDrive/TOMATOFOLDER/valid\""
      ],
      "execution_count": null,
      "outputs": []
    },
    {
      "cell_type": "code",
      "metadata": {
        "colab": {
          "base_uri": "https://localhost:8080/"
        },
        "id": "X2dJysecGhUM",
        "outputId": "75356965-20be-49bd-a6fc-3078719c40a3"
      },
      "source": [
        "folders=glob(\"/content/drive/MyDrive/TOMATOFOLDER/train/*\")\n",
        "folders"
      ],
      "execution_count": null,
      "outputs": [
        {
          "output_type": "execute_result",
          "data": {
            "text/plain": [
              "['/content/drive/MyDrive/TOMATOFOLDER/train/Tomato___healthy',\n",
              " '/content/drive/MyDrive/TOMATOFOLDER/train/Tomato___Target_Spot',\n",
              " '/content/drive/MyDrive/TOMATOFOLDER/train/Tomato___Tomato_Yellow_Leaf_Curl_Virus',\n",
              " '/content/drive/MyDrive/TOMATOFOLDER/train/Tomato___Spider_mites Two-spotted_spider_mite',\n",
              " '/content/drive/MyDrive/TOMATOFOLDER/train/Tomato___Late_blight',\n",
              " '/content/drive/MyDrive/TOMATOFOLDER/train/Tomato___Leaf_Mold',\n",
              " '/content/drive/MyDrive/TOMATOFOLDER/train/Tomato___Early_blight',\n",
              " '/content/drive/MyDrive/TOMATOFOLDER/train/Tomato___Tomato_mosaic_virus',\n",
              " '/content/drive/MyDrive/TOMATOFOLDER/train/Tomato___Septoria_leaf_spot',\n",
              " '/content/drive/MyDrive/TOMATOFOLDER/train/Tomato___Bacterial_spot']"
            ]
          },
          "metadata": {
            "tags": []
          },
          "execution_count": 5
        }
      ]
    },
    {
      "cell_type": "code",
      "metadata": {
        "colab": {
          "base_uri": "https://localhost:8080/"
        },
        "id": "TsoYYhUNGzs7",
        "outputId": "6e31db91-22be-4ca6-cb36-4f756ca5524d"
      },
      "source": [
        "len(folders)"
      ],
      "execution_count": null,
      "outputs": [
        {
          "output_type": "execute_result",
          "data": {
            "text/plain": [
              "10"
            ]
          },
          "metadata": {
            "tags": []
          },
          "execution_count": 6
        }
      ]
    },
    {
      "cell_type": "code",
      "metadata": {
        "colab": {
          "base_uri": "https://localhost:8080/"
        },
        "id": "h4u3aib0HDM7",
        "outputId": "ca6e5932-a7b8-4dee-9462-9afd431a9023"
      },
      "source": [
        "vgg19=VGG19(input_shape=IMAGE_SIZE+[3],weights='imagenet',include_top=False)"
      ],
      "execution_count": null,
      "outputs": [
        {
          "output_type": "stream",
          "text": [
            "Downloading data from https://storage.googleapis.com/tensorflow/keras-applications/vgg19/vgg19_weights_tf_dim_ordering_tf_kernels_notop.h5\n",
            "80142336/80134624 [==============================] - 1s 0us/step\n"
          ],
          "name": "stdout"
        }
      ]
    },
    {
      "cell_type": "code",
      "metadata": {
        "id": "5znJvd5eHgjV"
      },
      "source": [
        "for layer in vgg19.layers:\n",
        "  layer.trainable=False"
      ],
      "execution_count": null,
      "outputs": []
    },
    {
      "cell_type": "code",
      "metadata": {
        "id": "xJLvq7TuH3EA"
      },
      "source": [
        "# our layers - you can add more if you want\n",
        "x = Flatten()(vgg19.output)"
      ],
      "execution_count": null,
      "outputs": []
    },
    {
      "cell_type": "code",
      "metadata": {
        "id": "0aNbtHpYI0FS"
      },
      "source": [
        "prediction = Dense(len(folders), activation='softmax')(x)\n",
        "\n",
        "# create a model object\n",
        "model = Model(inputs=vgg19.input, outputs=prediction)"
      ],
      "execution_count": null,
      "outputs": []
    },
    {
      "cell_type": "code",
      "metadata": {
        "colab": {
          "base_uri": "https://localhost:8080/"
        },
        "id": "D0W-1T17JAuo",
        "outputId": "b31ef939-03f9-470c-e018-55158257351e"
      },
      "source": [
        "model.summary()"
      ],
      "execution_count": null,
      "outputs": [
        {
          "output_type": "stream",
          "text": [
            "Model: \"model\"\n",
            "_________________________________________________________________\n",
            "Layer (type)                 Output Shape              Param #   \n",
            "=================================================================\n",
            "input_1 (InputLayer)         [(None, 224, 224, 3)]     0         \n",
            "_________________________________________________________________\n",
            "block1_conv1 (Conv2D)        (None, 224, 224, 64)      1792      \n",
            "_________________________________________________________________\n",
            "block1_conv2 (Conv2D)        (None, 224, 224, 64)      36928     \n",
            "_________________________________________________________________\n",
            "block1_pool (MaxPooling2D)   (None, 112, 112, 64)      0         \n",
            "_________________________________________________________________\n",
            "block2_conv1 (Conv2D)        (None, 112, 112, 128)     73856     \n",
            "_________________________________________________________________\n",
            "block2_conv2 (Conv2D)        (None, 112, 112, 128)     147584    \n",
            "_________________________________________________________________\n",
            "block2_pool (MaxPooling2D)   (None, 56, 56, 128)       0         \n",
            "_________________________________________________________________\n",
            "block3_conv1 (Conv2D)        (None, 56, 56, 256)       295168    \n",
            "_________________________________________________________________\n",
            "block3_conv2 (Conv2D)        (None, 56, 56, 256)       590080    \n",
            "_________________________________________________________________\n",
            "block3_conv3 (Conv2D)        (None, 56, 56, 256)       590080    \n",
            "_________________________________________________________________\n",
            "block3_conv4 (Conv2D)        (None, 56, 56, 256)       590080    \n",
            "_________________________________________________________________\n",
            "block3_pool (MaxPooling2D)   (None, 28, 28, 256)       0         \n",
            "_________________________________________________________________\n",
            "block4_conv1 (Conv2D)        (None, 28, 28, 512)       1180160   \n",
            "_________________________________________________________________\n",
            "block4_conv2 (Conv2D)        (None, 28, 28, 512)       2359808   \n",
            "_________________________________________________________________\n",
            "block4_conv3 (Conv2D)        (None, 28, 28, 512)       2359808   \n",
            "_________________________________________________________________\n",
            "block4_conv4 (Conv2D)        (None, 28, 28, 512)       2359808   \n",
            "_________________________________________________________________\n",
            "block4_pool (MaxPooling2D)   (None, 14, 14, 512)       0         \n",
            "_________________________________________________________________\n",
            "block5_conv1 (Conv2D)        (None, 14, 14, 512)       2359808   \n",
            "_________________________________________________________________\n",
            "block5_conv2 (Conv2D)        (None, 14, 14, 512)       2359808   \n",
            "_________________________________________________________________\n",
            "block5_conv3 (Conv2D)        (None, 14, 14, 512)       2359808   \n",
            "_________________________________________________________________\n",
            "block5_conv4 (Conv2D)        (None, 14, 14, 512)       2359808   \n",
            "_________________________________________________________________\n",
            "block5_pool (MaxPooling2D)   (None, 7, 7, 512)         0         \n",
            "_________________________________________________________________\n",
            "flatten (Flatten)            (None, 25088)             0         \n",
            "_________________________________________________________________\n",
            "dense (Dense)                (None, 10)                250890    \n",
            "=================================================================\n",
            "Total params: 20,275,274\n",
            "Trainable params: 250,890\n",
            "Non-trainable params: 20,024,384\n",
            "_________________________________________________________________\n"
          ],
          "name": "stdout"
        }
      ]
    },
    {
      "cell_type": "code",
      "metadata": {
        "id": "C2GDk2haJECX"
      },
      "source": [
        "optimizer=RMSprop(0.001)\n",
        "model.compile(loss='categorical_crossentropy',optimizer=optimizer,metrics=['accuracy'])"
      ],
      "execution_count": null,
      "outputs": []
    },
    {
      "cell_type": "code",
      "metadata": {
        "colab": {
          "base_uri": "https://localhost:8080/"
        },
        "id": "ZockXYwFJvlx",
        "outputId": "26317dc4-4b4f-46db-9ae1-9c559bff8467"
      },
      "source": [
        "#Data augmentation\n",
        "test_datagen=ImageDataGenerator(rescale=1./255)\n",
        "train_datagen=ImageDataGenerator(rescale=1./255,\n",
        "                                 shear_range=0.2,\n",
        "                                 zoom_range=0.2,\n",
        "                                 rotation_range=40,\n",
        "                                 horizontal_flip=True)\n",
        "training_set=train_datagen.flow_from_directory(\n",
        "    \"/content/drive/MyDrive/TOMATOFOLDER/train\",\n",
        "    class_mode=\"categorical\",\n",
        "    target_size=IMAGE_SIZE,\n",
        "    batch_size=32\n",
        ")\n",
        "test_set=test_datagen.flow_from_directory(\n",
        "    \"/content/drive/MyDrive/TOMATOFOLDER/valid\",\n",
        "    class_mode='categorical',\n",
        "    target_size=IMAGE_SIZE,\n",
        "    batch_size=32\n",
        ")"
      ],
      "execution_count": null,
      "outputs": [
        {
          "output_type": "stream",
          "text": [
            "Found 16068 images belonging to 10 classes.\n",
            "Found 4595 images belonging to 10 classes.\n"
          ],
          "name": "stdout"
        }
      ]
    },
    {
      "cell_type": "code",
      "metadata": {
        "colab": {
          "base_uri": "https://localhost:8080/"
        },
        "id": "hlrb2FdPMkzu",
        "outputId": "580e408e-e794-4a63-f2da-4471f0cbd7d5"
      },
      "source": [
        "# fit the model\n",
        "es = EarlyStopping(patience=20, restore_best_weights=True)\n",
        "\n",
        "r = model.fit_generator(\n",
        "  training_set,\n",
        "  validation_data=test_set,\n",
        "  epochs=20,\n",
        "  steps_per_epoch=len(training_set),\n",
        "  validation_steps=len(test_set),\n",
        "  callbacks=es\n",
        ")"
      ],
      "execution_count": null,
      "outputs": [
        {
          "output_type": "stream",
          "text": [
            "/usr/local/lib/python3.7/dist-packages/tensorflow/python/keras/engine/training.py:1844: UserWarning: `Model.fit_generator` is deprecated and will be removed in a future version. Please use `Model.fit`, which supports generators.\n",
            "  warnings.warn('`Model.fit_generator` is deprecated and '\n"
          ],
          "name": "stderr"
        },
        {
          "output_type": "stream",
          "text": [
            "Epoch 1/20\n",
            "503/503 [==============================] - 240s 476ms/step - loss: 0.5569 - accuracy: 0.8702 - val_loss: 1.0684 - val_accuracy: 0.7983\n",
            "Epoch 2/20\n",
            "503/503 [==============================] - 240s 477ms/step - loss: 0.5403 - accuracy: 0.8702 - val_loss: 0.7451 - val_accuracy: 0.8498\n",
            "Epoch 3/20\n",
            "503/503 [==============================] - 240s 477ms/step - loss: 0.5225 - accuracy: 0.8757 - val_loss: 1.2221 - val_accuracy: 0.7989\n",
            "Epoch 4/20\n",
            "503/503 [==============================] - 239s 476ms/step - loss: 0.5159 - accuracy: 0.8780 - val_loss: 0.9295 - val_accuracy: 0.8318\n",
            "Epoch 5/20\n",
            "503/503 [==============================] - 238s 474ms/step - loss: 0.4772 - accuracy: 0.8836 - val_loss: 1.1822 - val_accuracy: 0.7967\n",
            "Epoch 6/20\n",
            "503/503 [==============================] - 238s 474ms/step - loss: 0.4733 - accuracy: 0.8875 - val_loss: 0.9417 - val_accuracy: 0.8296\n",
            "Epoch 7/20\n",
            "503/503 [==============================] - 237s 471ms/step - loss: 0.4721 - accuracy: 0.8875 - val_loss: 1.0319 - val_accuracy: 0.8270\n",
            "Epoch 8/20\n",
            "503/503 [==============================] - 237s 471ms/step - loss: 0.4649 - accuracy: 0.8913 - val_loss: 0.9744 - val_accuracy: 0.8427\n",
            "Epoch 9/20\n",
            "503/503 [==============================] - 238s 473ms/step - loss: 0.4431 - accuracy: 0.8959 - val_loss: 1.5147 - val_accuracy: 0.7841\n",
            "Epoch 10/20\n",
            "503/503 [==============================] - 235s 467ms/step - loss: 0.4545 - accuracy: 0.8913 - val_loss: 1.4069 - val_accuracy: 0.8126\n",
            "Epoch 11/20\n",
            "503/503 [==============================] - 238s 473ms/step - loss: 0.4495 - accuracy: 0.8964 - val_loss: 1.4894 - val_accuracy: 0.8165\n",
            "Epoch 12/20\n",
            "503/503 [==============================] - 238s 473ms/step - loss: 0.4341 - accuracy: 0.9006 - val_loss: 1.0845 - val_accuracy: 0.8200\n",
            "Epoch 13/20\n",
            "503/503 [==============================] - 236s 470ms/step - loss: 0.4393 - accuracy: 0.9019 - val_loss: 1.1838 - val_accuracy: 0.8115\n",
            "Epoch 14/20\n",
            "503/503 [==============================] - 237s 471ms/step - loss: 0.4427 - accuracy: 0.9024 - val_loss: 0.8524 - val_accuracy: 0.8679\n",
            "Epoch 15/20\n",
            "503/503 [==============================] - 236s 470ms/step - loss: 0.4121 - accuracy: 0.9068 - val_loss: 0.9914 - val_accuracy: 0.8514\n",
            "Epoch 16/20\n",
            "503/503 [==============================] - 237s 471ms/step - loss: 0.4199 - accuracy: 0.9056 - val_loss: 0.9905 - val_accuracy: 0.8568\n",
            "Epoch 17/20\n",
            "503/503 [==============================] - 238s 473ms/step - loss: 0.4305 - accuracy: 0.9059 - val_loss: 1.3403 - val_accuracy: 0.8287\n",
            "Epoch 18/20\n",
            "503/503 [==============================] - 236s 469ms/step - loss: 0.4236 - accuracy: 0.9072 - val_loss: 0.8880 - val_accuracy: 0.8481\n",
            "Epoch 19/20\n",
            "503/503 [==============================] - 235s 467ms/step - loss: 0.3942 - accuracy: 0.9112 - val_loss: 1.8998 - val_accuracy: 0.7948\n",
            "Epoch 20/20\n",
            "503/503 [==============================] - 235s 467ms/step - loss: 0.4122 - accuracy: 0.9076 - val_loss: 1.2212 - val_accuracy: 0.8416\n"
          ],
          "name": "stdout"
        }
      ]
    },
    {
      "cell_type": "code",
      "metadata": {
        "id": "Nn4HzQE6M4cM",
        "colab": {
          "base_uri": "https://localhost:8080/"
        },
        "outputId": "1f4f2ab0-46e9-43e4-af82-e3e9bd177886"
      },
      "source": [
        "valid_loss, valid_acc = model.evaluate_generator(test_set, steps=len(test_set))\n",
        "print(f\"Final validation accuracy: {valid_acc*100:.2f}%\")"
      ],
      "execution_count": null,
      "outputs": [
        {
          "output_type": "stream",
          "text": [
            "/usr/local/lib/python3.7/dist-packages/tensorflow/python/keras/engine/training.py:1877: UserWarning: `Model.evaluate_generator` is deprecated and will be removed in a future version. Please use `Model.evaluate`, which supports generators.\n",
            "  warnings.warn('`Model.evaluate_generator` is deprecated and '\n"
          ],
          "name": "stderr"
        },
        {
          "output_type": "stream",
          "text": [
            "Final validation accuracy: 84.16%\n"
          ],
          "name": "stdout"
        }
      ]
    },
    {
      "cell_type": "code",
      "metadata": {
        "id": "PRr1DCJcSOMb",
        "colab": {
          "base_uri": "https://localhost:8080/",
          "height": 530
        },
        "outputId": "ae69ad5a-1b55-4c8b-a802-6738ad48597a"
      },
      "source": [
        "# plot the loss\n",
        "plt.plot(r.history['loss'], label='train loss')\n",
        "plt.plot(r.history['val_loss'], label='val loss')\n",
        "plt.legend()\n",
        "plt.show()\n",
        "plt.savefig('LossVal_loss')\n",
        "\n",
        "# plot the accuracy\n",
        "plt.plot(r.history['accuracy'], label='train acc')\n",
        "plt.plot(r.history['val_accuracy'], label='val acc')\n",
        "plt.legend()\n",
        "plt.show()\n",
        "plt.savefig('Acc-Val_acc')"
      ],
      "execution_count": null,
      "outputs": [
        {
          "output_type": "display_data",
          "data": {
            "image/png": "[encoded data removed]",
            "text/plain": [
              "<Figure size 432x288 with 1 Axes>"
            ]
          },
          "metadata": {
            "tags": [],
            "needs_background": "light"
          }
        },
        {
          "output_type": "display_data",
          "data": {
            "image/png": "[encoded data removed]",
            "text/plain": [
              "<Figure size 432x288 with 1 Axes>"
            ]
          },
          "metadata": {
            "tags": [],
            "needs_background": "light"
          }
        },
        {
          "output_type": "display_data",
          "data": {
            "text/plain": [
              "<Figure size 432x288 with 0 Axes>"
            ]
          },
          "metadata": {
            "tags": []
          }
        }
      ]
    },
    {
      "cell_type": "code",
      "metadata": {
        "id": "x9hjYqgmWsyJ"
      },
      "source": [
        "y_pred = model.predict(test_set)"
      ],
      "execution_count": null,
      "outputs": []
    },
    {
      "cell_type": "code",
      "metadata": {
        "id": "C0T7168AW26E",
        "colab": {
          "base_uri": "https://localhost:8080/"
        },
        "outputId": "810d4e5e-e6d7-4350-dea6-c00bf52179c1"
      },
      "source": [
        "y_pred = np.argmax(y_pred, axis=1)\n",
        "y_pred"
      ],
      "execution_count": null,
      "outputs": [
        {
          "output_type": "execute_result",
          "data": {
            "text/plain": [
              "array([7, 6, 2, ..., 7, 7, 6])"
            ]
          },
          "metadata": {
            "tags": []
          },
          "execution_count": 35
        }
      ]
    },
    {
      "cell_type": "code",
      "metadata": {
        "id": "wQr02VxJt6Cs",
        "colab": {
          "base_uri": "https://localhost:8080/"
        },
        "outputId": "7fed4b52-d2a0-4780-bd59-2f7bc0d33e3b"
      },
      "source": [
        "loss, accuracy = model.evaluate(test_set)"
      ],
      "execution_count": null,
      "outputs": [
        {
          "output_type": "stream",
          "text": [
            "144/144 [==============================] - 25s 171ms/step - loss: 1.2212 - accuracy: 0.8416\n"
          ],
          "name": "stdout"
        }
      ]
    },
    {
      "cell_type": "code",
      "metadata": {
        "id": "uY_05m1GAzrc",
        "colab": {
          "base_uri": "https://localhost:8080/"
        },
        "outputId": "e748e861-ee44-4864-9853-840fcc73a362"
      },
      "source": [
        "#save the tflite model\n",
        "export_dir = 'Final_tommato2021/saved_model/'\n",
        "tf.saved_model.save(model, export_dir)"
      ],
      "execution_count": null,
      "outputs": [
        {
          "output_type": "stream",
          "text": [
            "INFO:tensorflow:Assets written to: Final_tommato2021/saved_model/assets\n"
          ],
          "name": "stdout"
        }
      ]
    },
    {
      "cell_type": "code",
      "metadata": {
        "id": "WSA_7N-lCGU-",
        "colab": {
          "base_uri": "https://localhost:8080/"
        },
        "outputId": "2054fc92-0cb3-4608-de18-02f6cb322bc9"
      },
      "source": [
        "#optimize the model for inference\n",
        "mode = \"Storage\"\n",
        "\n",
        "if mode == 'Storage':\n",
        "  optimization = tf.lite.Optimize.OPTIMIZE_FOR_SIZE\n",
        "elif mode == 'Speed':\n",
        "  optimization = tf.lite.Optimize.OPTIMIZE_FOR_LATENCY\n",
        "else:\n",
        "  optimization = tf.lite.Optimize.DEFAULT\n",
        "  \n",
        "optimization"
      ],
      "execution_count": null,
      "outputs": [
        {
          "output_type": "execute_result",
          "data": {
            "text/plain": [
              "<Optimize.OPTIMIZE_FOR_SIZE: 'OPTIMIZE_FOR_SIZE'>"
            ]
          },
          "metadata": {
            "tags": []
          },
          "execution_count": 39
        }
      ]
    },
    {
      "cell_type": "code",
      "metadata": {
        "id": "QWiBb_N6Pya4"
      },
      "source": [
        "#convert the model\n",
        "converter = tf.lite.TFLiteConverter.from_saved_model(export_dir)\n",
        "converter.optimizations = [optimization]\n",
        "tflite_model = converter.convert()"
      ],
      "execution_count": null,
      "outputs": []
    },
    {
      "cell_type": "code",
      "metadata": {
        "id": "va7UpGQMP-MB"
      },
      "source": [
        "# Save the converted model tflite file\n",
        "tflite_model_file = 'Final_tommato_classifier.tflite'\n",
        "\n",
        "with open(tflite_model_file, 'wb') as f:\n",
        "    f.write(tflite_model)\n",
        "\n"
      ],
      "execution_count": null,
      "outputs": []
    },
    {
      "cell_type": "code",
      "metadata": {
        "id": "uyGMnYt6UjTS"
      },
      "source": [
        "\n",
        "CLASS_NAMES = ['Tomato___healthy',\n",
        "'Tomato___Target_Spot',\n",
        "'Tomato___Tomato_Yellow_Leaf_Curl_Virus',\n",
        "'Tomato___Spider_mites Two-spotted_spider_mite',\n",
        "'Tomato___Late_blight',\n",
        "'Tomato___Leaf_Mold',\n",
        "'Tomato___Early_blight',\n",
        "'Tomato___Tomato_mosaic_virus',\n",
        "'Tomato___Septoria_leaf_spot',\n",
        "'Tomato___Bacterial_spot'\n",
        "]"
      ],
      "execution_count": null,
      "outputs": []
    },
    {
      "cell_type": "code",
      "metadata": {
        "colab": {
          "base_uri": "https://localhost:8080/"
        },
        "id": "JnpGTfbiQUhy",
        "outputId": "96585ca9-8f5b-4046-d57c-3df920791459"
      },
      "source": [
        "\n",
        "\n",
        "with open('Final_tomato_classifier_labels.txt', 'w') as f:\n",
        "  f.write('\\n'.join(CLASS_NAMES))\n",
        "  \n",
        "!ls"
      ],
      "execution_count": null,
      "outputs": [
        {
          "output_type": "stream",
          "text": [
            "Acc-Val_acc.png\t\t\t    LossVal_loss.png\n",
            "drive\t\t\t\t    sample_data\n",
            "Final_tomato_classifier_labels.txt  tomato_classifier_labels.txt\n",
            "Final_tommato2021\t\t    tommato2021\n",
            "Final_tommato_classifier.tflite     tommato_classifier.tflite\n"
          ],
          "name": "stdout"
        }
      ]
    },
    {
      "cell_type": "code",
      "metadata": {
        "colab": {
          "base_uri": "https://localhost:8080/"
        },
        "id": "l-_IpYyunx8H",
        "outputId": "eb45ee98-00a8-40ae-8d4b-fdbb0475fbde"
      },
      "source": [
        "\n",
        "\n",
        "with open('Final_tomato_classifier_labels.txt', 'w') as f:\n",
        "  f.write('\\n'.join(CLASS_NAMES))\n",
        "\n",
        "!ls"
      ],
      "execution_count": null,
      "outputs": [
        {
          "output_type": "stream",
          "text": [
            "Acc-Val_acc.png\t\t\t    LossVal_loss.png\n",
            "drive\t\t\t\t    sample_data\n",
            "Final_tomato_classifier_labels.txt  tomato_classifier_labels.txt\n",
            "Final_tommato2021\t\t    tommato2021\n",
            "Final_tommato_classifier.tflite     tommato_classifier.tflite\n"
          ],
          "name": "stdout"
        }
      ]
    },
    {
      "cell_type": "code",
      "metadata": {
        "id": "blq0fI_zVokH"
      },
      "source": [
        ""
      ],
      "execution_count": null,
      "outputs": []
    }
  ]
}